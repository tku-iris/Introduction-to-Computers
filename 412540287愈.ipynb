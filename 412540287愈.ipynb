{
  "nbformat": 4,
  "nbformat_minor": 0,
  "metadata": {
    "colab": {
      "provenance": [],
      "authorship_tag": "ABX9TyPJcEEZVzVA2woMOMDcSEZU",
      "include_colab_link": true
    },
    "kernelspec": {
      "name": "python3",
      "display_name": "Python 3"
    },
    "language_info": {
      "name": "python"
    }
  },
  "cells": [
    {
      "cell_type": "markdown",
      "metadata": {
        "id": "view-in-github",
        "colab_type": "text"
      },
      "source": [
        "<a href=\"https://colab.research.google.com/github/tku-iris/Introduction-to-Computers/blob/main/412540287%E6%84%88.ipynb\" target=\"_parent\"><img src=\"https://colab.research.google.com/assets/colab-badge.svg\" alt=\"Open In Colab\"/></a>"
      ]
    },
    {
      "cell_type": "code",
      "execution_count": 1,
      "metadata": {
        "id": "ZLedbvJr2lga",
        "colab": {
          "base_uri": "https://localhost:8080/"
        },
        "outputId": "f0a06ef6-8164-4161-d685-96911f9c1221"
      },
      "outputs": [
        {
          "output_type": "stream",
          "name": "stdout",
          "text": [
            "66.5\n"
          ]
        }
      ],
      "source": [
        "a=6\n",
        "b=13\n",
        "c=7\n",
        "area=(a+b)*c/2\n",
        "print(area)"
      ]
    },
    {
      "cell_type": "code",
      "source": [
        "from binascii import b2a_base64\n",
        "a=100\n",
        "b=7.5\n",
        "ans=a%b\n",
        "print(ans)"
      ],
      "metadata": {
        "colab": {
          "base_uri": "https://localhost:8080/"
        },
        "id": "cb-fvdzJ4FfP",
        "outputId": "f8a3da29-304a-4019-ba8c-9e8a15b8e1ba"
      },
      "execution_count": 2,
      "outputs": [
        {
          "output_type": "stream",
          "name": "stdout",
          "text": [
            "2.5\n"
          ]
        }
      ]
    },
    {
      "cell_type": "code",
      "source": [
        "x=40287\n",
        "s=60\n",
        "m=60\n",
        "hr=x//(s*m)\n",
        "re_s=x%(s*m)\n",
        "m=re_s//s\n",
        "s=re_s%s\n",
        "print(hr)\n",
        "print(m)\n",
        "print(s)\n"
      ],
      "metadata": {
        "colab": {
          "base_uri": "https://localhost:8080/"
        },
        "id": "P4-dxf8h4U21",
        "outputId": "0f48ebe5-f46e-4504-ad29-b359b6d324f3"
      },
      "execution_count": 4,
      "outputs": [
        {
          "output_type": "stream",
          "name": "stdout",
          "text": [
            "11\n",
            "11\n",
            "27\n"
          ]
        }
      ]
    },
    {
      "cell_type": "code",
      "source": [
        "veight=52\n",
        "height_cm=158\n",
        "height_n=height_cm/100\n",
        "bmi=veight/(height_n*height_cm)\n",
        "print(bmi)"
      ],
      "metadata": {
        "colab": {
          "base_uri": "https://localhost:8080/"
        },
        "id": "CjSTN6V15hvG",
        "outputId": "55740366-8eca-4d62-83cc-98ed54b9d395"
      },
      "execution_count": 6,
      "outputs": [
        {
          "output_type": "stream",
          "name": "stdout",
          "text": [
            "0.20829995193078032\n"
          ]
        }
      ]
    }
  ]
}