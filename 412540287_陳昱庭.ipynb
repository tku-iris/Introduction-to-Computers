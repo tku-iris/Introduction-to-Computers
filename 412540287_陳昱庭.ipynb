{
  "nbformat": 4,
  "nbformat_minor": 0,
  "metadata": {
    "colab": {
      "provenance": [],
      "authorship_tag": "ABX9TyOwuFauH5Wb3sts/8IwgPj5",
      "include_colab_link": true
    },
    "kernelspec": {
      "name": "python3",
      "display_name": "Python 3"
    },
    "language_info": {
      "name": "python"
    }
  },
  "cells": [
    {
      "cell_type": "markdown",
      "metadata": {
        "id": "view-in-github",
        "colab_type": "text"
      },
      "source": [
        "<a href=\"https://colab.research.google.com/github/tku-iris/Introduction-to-Computers/blob/main/412540287_%E9%99%B3%E6%98%B1%E5%BA%AD.ipynb\" target=\"_parent\"><img src=\"https://colab.research.google.com/assets/colab-badge.svg\" alt=\"Open In Colab\"/></a>"
      ]
    },
    {
      "cell_type": "code",
      "execution_count": 3,
      "metadata": {
        "colab": {
          "base_uri": "https://localhost:8080/"
        },
        "id": "m4rrTzPmvHyP",
        "outputId": "48e3e119-9bb6-4244-b3cc-b512c555e8c2"
      },
      "outputs": [
        {
          "output_type": "stream",
          "name": "stdout",
          "text": [
            "請輸入年數:6\n",
            "6年後本金為:119405.22965290002元\n",
            "6年後本金為:119405.22965290002元\n"
          ]
        }
      ],
      "source": [
        "deposit=100000\n",
        "N=int(input(\"請輸入年數:\"))\n",
        "times=(1+0.03)**N\n",
        "result=deposit*times\n",
        "print(\"%d年後本金為:%s元\"%(N,result))\n",
        "print(\"{}年後本金為:{}元\".format(N,result))"
      ]
    },
    {
      "cell_type": "code",
      "source": [
        "km=int(input(\"請輸入公里數(學號後5碼):\"))\n",
        "fee=140+(km-2)*40\n",
        "print(\"總車資費為:%d元\"%fee)\n",
        "print(\"總車資費為:{}元\".format(fee))"
      ],
      "metadata": {
        "colab": {
          "base_uri": "https://localhost:8080/"
        },
        "id": "HSw1QyW5w_RV",
        "outputId": "439b1b3c-89a9-4178-bb5b-0d52134faa9f"
      },
      "execution_count": 5,
      "outputs": [
        {
          "output_type": "stream",
          "name": "stdout",
          "text": [
            "請輸入公里數(學號後5碼):40287\n",
            "總車資費為:1611540元\n",
            "總車資費為:1611540元\n"
          ]
        }
      ]
    }
  ]
}