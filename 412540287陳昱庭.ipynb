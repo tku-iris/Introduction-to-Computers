{
  "nbformat": 4,
  "nbformat_minor": 0,
  "metadata": {
    "colab": {
      "provenance": [],
      "authorship_tag": "ABX9TyOdfnQf8gLb5roa4xon03gz",
      "include_colab_link": true
    },
    "kernelspec": {
      "name": "python3",
      "display_name": "Python 3"
    },
    "language_info": {
      "name": "python"
    }
  },
  "cells": [
    {
      "cell_type": "markdown",
      "metadata": {
        "id": "view-in-github",
        "colab_type": "text"
      },
      "source": [
        "<a href=\"https://colab.research.google.com/github/tku-iris/Introduction-to-Computers/blob/main/412540287%E9%99%B3%E6%98%B1%E5%BA%AD.ipynb\" target=\"_parent\"><img src=\"https://colab.research.google.com/assets/colab-badge.svg\" alt=\"Open In Colab\"/></a>"
      ]
    },
    {
      "cell_type": "code",
      "execution_count": 4,
      "metadata": {
        "colab": {
          "base_uri": "https://localhost:8080/"
        },
        "id": "Fyz8En7sxpy1",
        "outputId": "c86efb41-70e8-4add-c05f-66b7cafaf982"
      },
      "outputs": [
        {
          "output_type": "stream",
          "name": "stdout",
          "text": [
            "請輸入體溫：37\n",
            "體溫略高！\n"
          ]
        }
      ],
      "source": [
        "temperature = float(input(\"請輸入體溫：\"))\n",
        "\n",
        "if temperature >= 37.5:\n",
        "    print(\"體溫過高！\")\n",
        "elif 37 <= temperature <= 37.4:\n",
        "    print(\"體溫略高！\")\n",
        "elif 34 <= temperature <= 36.9:\n",
        "    print(\"體溫正常！\")\n",
        "elif temperature < 34:\n",
        "    print(\"體溫異常，請重新量測！\")"
      ]
    },
    {
      "cell_type": "code",
      "source": [
        "score = int(input(\"請輸入成績：\"))\n",
        "\n",
        "if score >= 90:\n",
        "    print(\"A\")\n",
        "elif score >= 80:\n",
        "    print(\"B\")\n",
        "elif score >= 70:\n",
        "    print(\"C\")\n",
        "elif score >= 60:\n",
        "    print(\"D\")\n",
        "else:\n",
        "    print(\"E\")\n",
        ""
      ],
      "metadata": {
        "colab": {
          "base_uri": "https://localhost:8080/"
        },
        "id": "daoo32yxyePz",
        "outputId": "acc89a1e-fcdf-4d1b-fc11-a3fb736ab2d0"
      },
      "execution_count": 3,
      "outputs": [
        {
          "output_type": "stream",
          "name": "stdout",
          "text": [
            "請輸入成績：58\n",
            "E\n"
          ]
        }
      ]
    },
    {
      "cell_type": "code",
      "source": [
        "month = int(input(\"請輸入月份：\"))\n",
        "\n",
        "if month in [3, 4, 5]:\n",
        "    print(f\"{month}月是春天！\")\n",
        "elif month in [6, 7, 8]:\n",
        "    print(f\"{month}月是夏天！\")\n",
        "elif month in [9, 10, 11]:\n",
        "    print(f\"{month}月是秋天！\")\n",
        "elif month in [12, 1, 2]:\n",
        "    print(f\"{month}月是冬天！\")\n",
        "else:\n",
        "    print(\"月份不在範圍內！\")"
      ],
      "metadata": {
        "colab": {
          "base_uri": "https://localhost:8080/"
        },
        "id": "Lc7iZdPryeXE",
        "outputId": "65151680-e265-4704-a8d3-e0552e0a53a8"
      },
      "execution_count": 1,
      "outputs": [
        {
          "output_type": "stream",
          "name": "stdout",
          "text": [
            "請輸入月份：3\n",
            "3月是春天！\n"
          ]
        }
      ]
    }
  ]
}